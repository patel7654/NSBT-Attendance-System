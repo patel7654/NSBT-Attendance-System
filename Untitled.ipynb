{
 "cells": [
  {
   "cell_type": "code",
   "execution_count": 1,
   "id": "07a27741",
   "metadata": {},
   "outputs": [],
   "source": [
    "import tensorflow.keras as k"
   ]
  },
  {
   "cell_type": "code",
   "execution_count": 5,
   "id": "14c543a7",
   "metadata": {},
   "outputs": [],
   "source": [
    "def preprocess_data(x,y):\n",
    "    x_p=k.applications.resnet50.preprocess_input(x)\n",
    "    y_p=k.utils.to_categorical(y)\n",
    "    return x_p,y_p"
   ]
  },
  {
   "cell_type": "code",
   "execution_count": 6,
   "id": "48429ddd",
   "metadata": {},
   "outputs": [
    {
     "name": "stdout",
     "output_type": "stream",
     "text": [
      "(50000, 32, 32, 3) [[6]\n",
      " [9]\n",
      " [9]\n",
      " ...\n",
      " [9]\n",
      " [1]\n",
      " [1]]\n",
      "(50000, 32, 32, 3) (50000, 10)\n"
     ]
    }
   ],
   "source": [
    "(x_train , y_train), (x_test, y_test)=k.datasets.cifar10.load_data()\n",
    "print(x_train.shape, y_train)\n",
    "x_train, y_train=preprocess_data(x_train, y_train)\n",
    "x_test, y_test=preprocess_data(x_test, y_test)\n",
    "print(x_train.shape, y_train.shape)"
   ]
  },
  {
   "cell_type": "code",
   "execution_count": 10,
   "id": "47d45994",
   "metadata": {},
   "outputs": [
    {
     "name": "stdout",
     "output_type": "stream",
     "text": [
      "Downloading data from https://storage.googleapis.com/tensorflow/keras-applications/resnet/resnet50_weights_tf_dim_ordering_tf_kernels_notop.h5\n",
      "94773248/94765736 [==============================] - 138s 1us/step\n"
     ]
    }
   ],
   "source": [
    "input_t=k.Input(shape=(32, 32, 3))\n",
    "res_model=k.applications.ResNet50(include_top=False, weights='imagenet', input_tensor=input_t)"
   ]
  },
  {
   "cell_type": "code",
   "execution_count": null,
   "id": "55d6db05",
   "metadata": {},
   "outputs": [],
   "source": [
    "to_res="
   ]
  }
 ],
 "metadata": {
  "kernelspec": {
   "display_name": "Python 3",
   "language": "python",
   "name": "python3"
  },
  "language_info": {
   "codemirror_mode": {
    "name": "ipython",
    "version": 3
   },
   "file_extension": ".py",
   "mimetype": "text/x-python",
   "name": "python",
   "nbconvert_exporter": "python",
   "pygments_lexer": "ipython3",
   "version": "3.9.5"
  }
 },
 "nbformat": 4,
 "nbformat_minor": 5
}
